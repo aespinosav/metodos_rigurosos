{
 "metadata": {
  "language": "Julia",
  "name": ""
 },
 "nbformat": 3,
 "nbformat_minor": 0,
 "worksheets": [
  {
   "cells": [
    {
     "cell_type": "heading",
     "level": 1,
     "metadata": {},
     "source": [
      "Introducci\u00f3n a Julia"
     ]
    },
    {
     "cell_type": "heading",
     "level": 2,
     "metadata": {},
     "source": [
      "Enteros y Puntos Flotantes"
     ]
    },
    {
     "cell_type": "markdown",
     "metadata": {},
     "source": [
      "La divisi\u00f3n de enteros da flotantes"
     ]
    },
    {
     "cell_type": "code",
     "collapsed": false,
     "input": [
      "1 / 3"
     ],
     "language": "python",
     "metadata": {},
     "outputs": [
      {
       "metadata": {},
       "output_type": "pyout",
       "prompt_number": 2,
       "text": [
        "0.3333333333333333"
       ]
      }
     ],
     "prompt_number": 2
    },
    {
     "cell_type": "code",
     "collapsed": false,
     "input": [
      "a = 1/3\n",
      "typeof(a)"
     ],
     "language": "python",
     "metadata": {},
     "outputs": [
      {
       "metadata": {},
       "output_type": "pyout",
       "prompt_number": 5,
       "text": [
        "Float64"
       ]
      }
     ],
     "prompt_number": 5
    },
    {
     "cell_type": "markdown",
     "metadata": {},
     "source": [
      "Los flotantes se pueden escribir tambi\u00e9n en notaci\u00f3n cient\u00edfica"
     ]
    },
    {
     "cell_type": "code",
     "collapsed": false,
     "input": [
      "a = 3e16"
     ],
     "language": "python",
     "metadata": {},
     "outputs": [
      {
       "metadata": {},
       "output_type": "pyout",
       "prompt_number": 6,
       "text": [
        "3.0e16"
       ]
      }
     ],
     "prompt_number": 6
    },
    {
     "cell_type": "code",
     "collapsed": false,
     "input": [
      "3a + a^2"
     ],
     "language": "python",
     "metadata": {},
     "outputs": [
      {
       "metadata": {},
       "output_type": "pyout",
       "prompt_number": 8,
       "text": [
        "9.000000000000002e32"
       ]
      }
     ],
     "prompt_number": 8
    },
    {
     "cell_type": "markdown",
     "metadata": {},
     "source": [
      "Las operaciones matem\u00e1ticas se escriben a\u00fan m\u00e1s facilmente que en otros lenguajes:\n"
     ]
    },
    {
     "cell_type": "code",
     "collapsed": false,
     "input": [
      "a = 3"
     ],
     "language": "python",
     "metadata": {},
     "outputs": [
      {
       "metadata": {},
       "output_type": "pyout",
       "prompt_number": 10,
       "text": [
        "3"
       ]
      }
     ],
     "prompt_number": 10
    },
    {
     "cell_type": "code",
     "collapsed": false,
     "input": [
      "b = 2a^2 + a + 1"
     ],
     "language": "python",
     "metadata": {},
     "outputs": [
      {
       "metadata": {},
       "output_type": "pyout",
       "prompt_number": 9,
       "text": [
        "1.8e33"
       ]
      }
     ],
     "prompt_number": 9
    },
    {
     "cell_type": "markdown",
     "metadata": {},
     "source": [
      "Se incluyen Inf, -Inf y los ceros con signo como numeros de tipo punto flotante"
     ]
    },
    {
     "cell_type": "code",
     "collapsed": false,
     "input": [
      "typeof(Inf)"
     ],
     "language": "python",
     "metadata": {},
     "outputs": [
      {
       "metadata": {},
       "output_type": "pyout",
       "prompt_number": 11,
       "text": [
        "Float64"
       ]
      }
     ],
     "prompt_number": 11
    },
    {
     "cell_type": "code",
     "collapsed": false,
     "input": [
      "3 + Inf"
     ],
     "language": "python",
     "metadata": {},
     "outputs": [
      {
       "metadata": {},
       "output_type": "pyout",
       "prompt_number": 12,
       "text": [
        "Inf"
       ]
      }
     ],
     "prompt_number": 12
    },
    {
     "cell_type": "code",
     "collapsed": false,
     "input": [
      "3 - Inf"
     ],
     "language": "python",
     "metadata": {},
     "outputs": [
      {
       "metadata": {},
       "output_type": "pyout",
       "prompt_number": 13,
       "text": [
        "-Inf"
       ]
      }
     ],
     "prompt_number": 13
    },
    {
     "cell_type": "code",
     "collapsed": false,
     "input": [
      "Inf - Inf"
     ],
     "language": "python",
     "metadata": {},
     "outputs": [
      {
       "metadata": {},
       "output_type": "pyout",
       "prompt_number": 14,
       "text": [
        "NaN"
       ]
      }
     ],
     "prompt_number": 14
    },
    {
     "cell_type": "code",
     "collapsed": false,
     "input": [
      "Inf / Inf"
     ],
     "language": "python",
     "metadata": {},
     "outputs": [
      {
       "metadata": {},
       "output_type": "pyout",
       "prompt_number": 15,
       "text": [
        "NaN"
       ]
      }
     ],
     "prompt_number": 15
    },
    {
     "cell_type": "code",
     "collapsed": false,
     "input": [
      "1 / Inf"
     ],
     "language": "python",
     "metadata": {},
     "outputs": [
      {
       "metadata": {},
       "output_type": "pyout",
       "prompt_number": 16,
       "text": [
        "0.0"
       ]
      }
     ],
     "prompt_number": 16
    },
    {
     "cell_type": "code",
     "collapsed": false,
     "input": [
      "-1 / Inf"
     ],
     "language": "python",
     "metadata": {},
     "outputs": [
      {
       "metadata": {},
       "output_type": "pyout",
       "prompt_number": 17,
       "text": [
        "-0.0"
       ]
      }
     ],
     "prompt_number": 17
    },
    {
     "cell_type": "markdown",
     "metadata": {},
     "source": [
      "El 0 y el -0 se consideran como iguales, cuando se utiliza el operador ==.\n",
      "Sin embargo son diferentes si se ven los bits..."
     ]
    },
    {
     "cell_type": "code",
     "collapsed": false,
     "input": [
      " cero = float(0)"
     ],
     "language": "python",
     "metadata": {},
     "outputs": [
      {
       "metadata": {},
       "output_type": "pyout",
       "prompt_number": 18,
       "text": [
        "0.0"
       ]
      }
     ],
     "prompt_number": 18
    },
    {
     "cell_type": "code",
     "collapsed": false,
     "input": [
      "-cero"
     ],
     "language": "python",
     "metadata": {},
     "outputs": [
      {
       "metadata": {},
       "output_type": "pyout",
       "prompt_number": 19,
       "text": [
        "-0.0"
       ]
      }
     ],
     "prompt_number": 19
    },
    {
     "cell_type": "code",
     "collapsed": false,
     "input": [
      "cero == -cero"
     ],
     "language": "python",
     "metadata": {},
     "outputs": [
      {
       "metadata": {},
       "output_type": "pyout",
       "prompt_number": 20,
       "text": [
        "true"
       ]
      }
     ],
     "prompt_number": 20
    },
    {
     "cell_type": "code",
     "collapsed": false,
     "input": [
      "bits(cero)"
     ],
     "language": "python",
     "metadata": {},
     "outputs": [
      {
       "metadata": {},
       "output_type": "pyout",
       "prompt_number": 21,
       "text": [
        "0000000000000000000000000000000000000000000000000000000000000000"
       ]
      }
     ],
     "prompt_number": 21
    },
    {
     "cell_type": "code",
     "collapsed": false,
     "input": [
      "bits(-cero)"
     ],
     "language": "python",
     "metadata": {},
     "outputs": [
      {
       "metadata": {},
       "output_type": "pyout",
       "prompt_number": 22,
       "text": [
        "1000000000000000000000000000000000000000000000000000000000000000"
       ]
      }
     ],
     "prompt_number": 22
    },
    {
     "cell_type": "code",
     "collapsed": false,
     "input": [
      "bits(0.0)== bits(-0.0)"
     ],
     "language": "python",
     "metadata": {},
     "outputs": [
      {
       "metadata": {},
       "output_type": "pyout",
       "prompt_number": 24,
       "text": [
        "false"
       ]
      }
     ],
     "prompt_number": 24
    },
    {
     "cell_type": "markdown",
     "metadata": {},
     "source": [
      "Multipresici\u00f3n en Julia:"
     ]
    },
    {
     "cell_type": "code",
     "collapsed": false,
     "input": [
      "?factorial\n"
     ],
     "language": "python",
     "metadata": {},
     "outputs": [
      {
       "output_type": "stream",
       "stream": "stdout",
       "text": [
        "Loading help data...\n"
       ]
      },
      {
       "output_type": "stream",
       "stream": "stdout",
       "text": [
        "Base.factorial(n)\n",
        "\n",
        "   Factorial of n"
       ]
      },
      {
       "output_type": "stream",
       "stream": "stdout",
       "text": [
        "\n",
        "\n",
        "Base.factorial(n, k)\n",
        "\n",
        "   Compute \"factorial(n)/factorial(k)\"\n"
       ]
      }
     ],
     "prompt_number": 30
    },
    {
     "cell_type": "code",
     "collapsed": false,
     "input": [
      "help(factorial)"
     ],
     "language": "python",
     "metadata": {},
     "outputs": [
      {
       "output_type": "stream",
       "stream": "stdout",
       "text": [
        "Base.factorial(n)\n",
        "\n",
        "   Factorial of n\n"
       ]
      },
      {
       "output_type": "stream",
       "stream": "stdout",
       "text": [
        "\n",
        "Base.factorial(n, k)\n",
        "\n",
        "   Compute \"factorial(n)/factorial(k)\"\n"
       ]
      }
     ],
     "prompt_number": 31
    },
    {
     "cell_type": "code",
     "collapsed": false,
     "input": [
      "methods(+)"
     ],
     "language": "python",
     "metadata": {},
     "outputs": [
      {
       "metadata": {},
       "output_type": "pyout",
       "prompt_number": 33,
       "text": [
        "# methods for generic function +\n",
        "+(x::Bool,y::Bool) at bool.jl:38\n",
        "+(x::Int64,y::Int64) at int.jl:36\n",
        "+(x::Union(SubArray{Bool,N,A<:Array{T,N},I<:(Union(Range{Int64},Int64,Range1{Int64})...,)},Array{Bool,N}),y::Union(SubArray{Bool,N,A<:Array{T,N},I<:(Union(Range{Int64},Int64,Range1{Int64})...,)},Array{Bool,N})) at array.jl:972\n",
        "+{S,T}(A::Union(SubArray{S,N,A<:Array{T,N},I<:(Union(Range{Int64},Int64,Range1{Int64})...,)},Array{S,N}),B::Union(SubArray{T,N,A<:Array{T,N},I<:(Union(Range{Int64},Int64,Range1{Int64})...,)},Array{T,N})) at array.jl:916\n",
        "+{T<:Union(Int8,Int16,Int32,Int64)}(x::T<:Union(Int8,Int16,Int32,Int64),y::T<:Union(Int8,Int16,Int32,Int64)) at int.jl:11\n",
        "+(x::Uint64,y::Uint64) at int.jl:37\n",
        "+{T<:Union(Uint64,Uint16,Uint8,Uint32)}(x::T<:Union(Uint64,Uint16,Uint8,Uint32),y::T<:Union(Uint64,Uint16,Uint8,Uint32)) at int.jl:15\n",
        "+(x::Int128,y::Int128) at int.jl:38\n",
        "+(x::Uint128,y::Uint128) at int.jl:39\n",
        "+(a::Float16,b::Float16) at float.jl:129\n",
        "+(x::Float32,y::Float32) at float.jl:131\n",
        "+(x::Float64,y::Float64) at float.jl:132\n",
        "+(z::Complex{T<:Real},w::Complex{T<:Real}) at complex.jl:131\n",
        "+(x::Real,z::Complex{T<:Real}) at complex.jl:139\n",
        "+(z::Complex{T<:Real},x::Real) at complex.jl:140\n",
        "+(x::Rational{T<:Integer},y::Rational{T<:Integer}) at rational.jl:113\n",
        "+(x::Bool,y::Union(SubArray{Bool,N,A<:Array{T,N},I<:(Union(Range{Int64},Int64,Range1{Int64})...,)},Array{Bool,N})) at array.jl:966\n",
        "+(x::Union(SubArray{Bool,N,A<:Array{T,N},I<:(Union(Range{Int64},Int64,Range1{Int64})...,)},Array{Bool,N}),y::Bool) at array.jl:969\n",
        "+(x::Char,y::Char) at char.jl:25\n",
        "+(x::Char,y::Integer) at char.jl:30\n",
        "+(x::Integer,y::Char) at char.jl:31\n",
        "+(x::BigInt,y::BigInt) at gmp.jl:159\n",
        "+(x::BigInt,c::Uint64) at gmp.jl:195\n",
        "+(c::Uint64,x::BigInt) at gmp.jl:199\n",
        "+(c::Unsigned,x::BigInt) at gmp.jl:200\n",
        "+(x::BigInt,c::Unsigned) at gmp.jl:201\n",
        "+(x::BigInt,c::Signed) at gmp.jl:202\n",
        "+(c::Signed,x::BigInt) at gmp.jl:203\n",
        "+(x::BigFloat,c::Uint64) at mpfr.jl:147\n",
        "+(c::Uint64,x::BigFloat) at mpfr.jl:151\n",
        "+(c::Unsigned,x::BigFloat) at mpfr.jl:152\n",
        "+(x::BigFloat,c::Unsigned) at mpfr.jl:153\n",
        "+(x::BigFloat,c::Int64) at mpfr.jl:157\n",
        "+(c::Int64,x::BigFloat) at mpfr.jl:161\n",
        "+(x::BigFloat,c::Signed) at mpfr.jl:162\n",
        "+(c::Signed,x::BigFloat) at mpfr.jl:163\n",
        "+(x::BigFloat,c::Float64) at mpfr.jl:167\n",
        "+(c::Float64,x::BigFloat) at mpfr.jl:171\n",
        "+(c::Float32,x::BigFloat) at mpfr.jl:172\n",
        "+(x::BigFloat,c::Float32) at mpfr.jl:173\n",
        "+(x::BigFloat,c::BigInt) at mpfr.jl:177\n",
        "+(c::BigInt,x::BigFloat) at mpfr.jl:181\n",
        "+(x::BigFloat,y::BigFloat) at mpfr.jl:328\n",
        "+(x::MathConst{sym},y::MathConst{sym}) at constants.jl:28\n",
        "+{T<:Number}(x::T<:Number,y::T<:Number) at promotion.jl:178\n",
        "+(x::Number,y::Number) at promotion.jl:148\n",
        "+(x::Real,r::Range{T<:Real}) at range.jl:282\n",
        "+(x::Real,r::Range1{T<:Real}) at range.jl:283\n",
        "+(r::Ranges{T},x::Real) at range.jl:284\n",
        "+(r1::Ranges{T},r2::Ranges{T}) at range.jl:296\n",
        "+(x::Bool) at bool.jl:35\n",
        "+() at operators.jl:34\n",
        "+(x::Number) at operators.jl:40\n",
        "+(a::BigInt,b::BigInt,c::BigInt) at gmp.jl:170\n",
        "+(a::BigFloat,b::BigFloat,c::BigFloat) at mpfr.jl:339\n",
        "+(a,b,c) at operators.jl:48\n",
        "+(a::BigInt,b::BigInt,c::BigInt,d::BigInt) at gmp.jl:176\n",
        "+(a::BigFloat,b::BigFloat,c::BigFloat,d::BigFloat) at mpfr.jl:345\n",
        "+(a,b,c,d) at operators.jl:49\n",
        "+(a::BigInt,b::BigInt,c::BigInt,d::BigInt,e::BigInt) at gmp.jl:183\n",
        "+(a::BigFloat,b::BigFloat,c::BigFloat,d::BigFloat,e::BigFloat) at mpfr.jl:352\n",
        "+(a,b,c,d,e) at operators.jl:50\n",
        "+(a,b,c,xs...) at operators.jl:51\n",
        "+(x::Ptr{T},y::Integer) at pointer.jl:59\n",
        "+(x::Integer,y::Ptr{T}) at pointer.jl:61\n",
        "+{T<:Number}(x::AbstractArray{T<:Number,N}) at abstractarray.jl:271\n",
        "+{T}(A::Number,B::Union(SubArray{T,N,A<:Array{T,N},I<:(Union(Range{Int64},Int64,Range1{Int64})...,)},Array{T,N})) at array.jl:927\n",
        "+{T}(A::Union(SubArray{T,N,A<:Array{T,N},I<:(Union(Range{Int64},Int64,Range1{Int64})...,)},Array{T,N}),B::Number) at array.jl:934\n",
        "+{S,T<:Real}(A::Union(SubArray{S,N,A<:Array{T,N},I<:(Union(Range{Int64},Int64,Range1{Int64})...,)},Array{S,N}),B::Ranges{T<:Real}) at array.jl:942\n",
        "+{S<:Real,T}(A::Ranges{S<:Real},B::Union(SubArray{T,N,A<:Array{T,N},I<:(Union(Range{Int64},Int64,Range1{Int64})...,)},Array{T,N})) at array.jl:951\n",
        "+(A::BitArray{N},B::BitArray{N}) at bitarray.jl:1104\n",
        "+(B::BitArray{N},x::Bool) at bitarray.jl:1108\n",
        "+(B::BitArray{N},x::Number) at bitarray.jl:1111\n",
        "+(x::Bool,B::BitArray{N}) at bitarray.jl:1115\n",
        "+(x::Number,B::BitArray{N}) at bitarray.jl:1118\n",
        "+(A::BitArray{N},B::AbstractArray{T,N}) at bitarray.jl:1356\n",
        "+(A::AbstractArray{T,N},B::BitArray{N}) at bitarray.jl:1357\n",
        "+{Tv,Ti}(A::SparseMatrixCSC{Tv,Ti},B::SparseMatrixCSC{Tv,Ti}) at sparse/sparsematrix.jl:408\n",
        "+{TvA,TiA,TvB,TiB}(A::SparseMatrixCSC{TvA,TiA},B::SparseMatrixCSC{TvB,TiB}) at sparse/sparsematrix.jl:400\n",
        "+(A::SparseMatrixCSC{Tv,Ti<:Integer},B::Union(Number,Array{T,N})) at sparse/sparsematrix.jl:502\n",
        "+(A::Union(Number,Array{T,N}),B::SparseMatrixCSC{Tv,Ti<:Integer}) at sparse/sparsematrix.jl:503\n",
        "+(A::SymTridiagonal{T<:Union(Complex{Float32},Complex{Float64},Float64,Float32)},B::SymTridiagonal{T<:Union(Complex{Float32},Complex{Float64},Float64,Float32)}) at linalg/tridiag.jl:50\n",
        "+(A::Tridiagonal{T},B::Tridiagonal{T}) at linalg/tridiag.jl:151\n",
        "+(A::Tridiagonal{T},B::SymTridiagonal{T<:Union(Complex{Float32},Complex{Float64},Float64,Float32)}) at linalg/tridiag.jl:164\n",
        "+(A::SymTridiagonal{T<:Union(Complex{Float32},Complex{Float64},Float64,Float32)},B::Tridiagonal{T}) at linalg/tridiag.jl:165\n",
        "+(A::Bidiagonal{T},B::Bidiagonal{T}) at linalg/bidiag.jl:76\n",
        "+(Da::Diagonal{T},Db::Diagonal{T}) at linalg/diagonal.jl:28\n",
        "+{T}(a::HierarchicalValue{T},b::HierarchicalValue{T}) at pkg/resolve/versionweight.jl:19\n",
        "+(a::VWPreBuildItem,b::VWPreBuildItem) at pkg/resolve/versionweight.jl:82\n",
        "+(a::VWPreBuild,b::VWPreBuild) at pkg/resolve/versionweight.jl:120\n",
        "+(a::VersionWeight,b::VersionWeight) at pkg/resolve/versionweight.jl:164\n",
        "+(a::FieldValue,b::FieldValue) at pkg/resolve/fieldvalue.jl:41\n",
        "+(a::FieldValue,b::FieldValue) at pkg1/resolve.jl:464\n",
        "+(a::Vec2,b::Vec2) at graphics.jl:62\n",
        "+(bb1::BoundingBox,bb2::BoundingBox) at graphics.jl:128"
       ]
      }
     ],
     "prompt_number": 33
    },
    {
     "cell_type": "code",
     "collapsed": false,
     "input": [
      "factorial(BigInt(80))"
     ],
     "language": "python",
     "metadata": {},
     "outputs": [
      {
       "metadata": {},
       "output_type": "pyout",
       "prompt_number": 34,
       "text": [
        "71569457046263802294811533723186532165584657342365752577109445058227039255480148842668944867280814080000000000000000000"
       ]
      }
     ],
     "prompt_number": 34
    },
    {
     "cell_type": "code",
     "collapsed": false,
     "input": [
      "numero_grande = 3e164"
     ],
     "language": "python",
     "metadata": {},
     "outputs": [
      {
       "metadata": {},
       "output_type": "pyout",
       "prompt_number": 35,
       "text": [
        "3.0e164"
       ]
      }
     ],
     "prompt_number": 35
    },
    {
     "cell_type": "code",
     "collapsed": false,
     "input": [
      "bits(numero_grande^2)"
     ],
     "language": "python",
     "metadata": {},
     "outputs": [
      {
       "metadata": {},
       "output_type": "pyout",
       "prompt_number": 39,
       "text": [
        "0111111111110000000000000000000000000000000000000000000000000000"
       ]
      }
     ],
     "prompt_number": 39
    },
    {
     "cell_type": "code",
     "collapsed": false,
     "input": [
      "bits(BigFloat(numero_grande)^2)"
     ],
     "language": "python",
     "metadata": {},
     "outputs": [
      {
       "ename": "LoadError",
       "evalue": "no method bits(BigFloat,)\nat In[38]:1",
       "output_type": "pyerr",
       "traceback": [
        "no method bits(BigFloat,)\nat In[38]:1"
       ]
      }
     ],
     "prompt_number": 38
    },
    {
     "cell_type": "heading",
     "level": 2,
     "metadata": {},
     "source": [
      "Cadenas"
     ]
    },
    {
     "cell_type": "code",
     "collapsed": false,
     "input": [
      "hola = \"Hola!\""
     ],
     "language": "python",
     "metadata": {},
     "outputs": [
      {
       "metadata": {},
       "output_type": "pyout",
       "prompt_number": 40,
       "text": [
        "Hola!"
       ]
      }
     ],
     "prompt_number": 40
    },
    {
     "cell_type": "code",
     "collapsed": false,
     "input": [
      "println(hola)\n",
      "print(\"otra cosa\")"
     ],
     "language": "python",
     "metadata": {},
     "outputs": [
      {
       "output_type": "stream",
       "stream": "stdout",
       "text": [
        "Hola!\n"
       ]
      },
      {
       "output_type": "stream",
       "stream": "stdout",
       "text": [
        "otra cosa"
       ]
      }
     ],
     "prompt_number": 48
    },
    {
     "cell_type": "code",
     "collapsed": false,
     "input": [
      "a = 34.5\n",
      "b = 3.9\n",
      "c = 1.000000000001\n"
     ],
     "language": "python",
     "metadata": {},
     "outputs": [
      {
       "metadata": {},
       "output_type": "pyout",
       "prompt_number": 56,
       "text": [
        "1.000000000001"
       ]
      }
     ],
     "prompt_number": 56
    },
    {
     "cell_type": "code",
     "collapsed": false,
     "input": [
      "datos = \"El valor de a es: $a, b es igual a $b y finalmente $c es el valor de c\""
     ],
     "language": "python",
     "metadata": {},
     "outputs": [
      {
       "metadata": {},
       "output_type": "pyout",
       "prompt_number": 57,
       "text": [
        "El valor de a es: 34.5, b es igual a 3.9 y finalmente 1.000000000001 es el valor de c"
       ]
      }
     ],
     "prompt_number": 57
    },
    {
     "cell_type": "code",
     "collapsed": false,
     "input": [
      "bits(0.1)"
     ],
     "language": "python",
     "metadata": {},
     "outputs": [
      {
       "metadata": {},
       "output_type": "pyout",
       "prompt_number": 61,
       "text": [
        "0011111110111001100110011001100110011001100110011001100110011010"
       ]
      }
     ],
     "prompt_number": 61
    },
    {
     "cell_type": "heading",
     "level": 2,
     "metadata": {},
     "source": [
      "Arreglos"
     ]
    },
    {
     "cell_type": "markdown",
     "metadata": {},
     "source": [
      "Los arreglos en julia se escriben con corchetes cuadrados [ ]"
     ]
    },
    {
     "cell_type": "code",
     "collapsed": false,
     "input": [
      "arreglo = [1,2,3,4]"
     ],
     "language": "python",
     "metadata": {},
     "outputs": [
      {
       "metadata": {},
       "output_type": "pyout",
       "prompt_number": 62,
       "text": [
        "4-element Array{Int64,1}:\n",
        " 1\n",
        " 2\n",
        " 3\n",
        " 4"
       ]
      }
     ],
     "prompt_number": 62
    },
    {
     "cell_type": "code",
     "collapsed": false,
     "input": [
      "typeof(arreglo)"
     ],
     "language": "python",
     "metadata": {},
     "outputs": [
      {
       "metadata": {},
       "output_type": "pyout",
       "prompt_number": 63,
       "text": [
        "Array{Int64,1}"
       ]
      }
     ],
     "prompt_number": 63
    },
    {
     "cell_type": "code",
     "collapsed": false,
     "input": [
      "arreglo2 = [1 4.9 \"hola\"]"
     ],
     "language": "python",
     "metadata": {},
     "outputs": [
      {
       "metadata": {},
       "output_type": "pyout",
       "prompt_number": 65,
       "text": [
        "1x3 Array{Any,2}:\n",
        " 1  4.9  \"hola\""
       ]
      }
     ],
     "prompt_number": 65
    },
    {
     "cell_type": "code",
     "collapsed": false,
     "input": [
      "arreglo3 = [2 3 4 10]"
     ],
     "language": "python",
     "metadata": {},
     "outputs": [
      {
       "metadata": {},
       "output_type": "pyout",
       "prompt_number": 66,
       "text": [
        "1x4 Array{Int64,2}:\n",
        " 2  3  4  10"
       ]
      },
      {
       "output_type": "stream",
       "stream": "stderr",
       "text": [
        "WARNING: contains(collection, item) is deprecated, use in(item, collection) instead"
       ]
      },
      {
       "output_type": "stream",
       "stream": "stderr",
       "text": [
        "\n",
        " in contains at reduce.jl:238\n"
       ]
      }
     ],
     "prompt_number": 66
    },
    {
     "cell_type": "code",
     "collapsed": false,
     "input": [
      "arreglo[end-1]"
     ],
     "language": "python",
     "metadata": {},
     "outputs": [
      {
       "metadata": {},
       "output_type": "pyout",
       "prompt_number": 82,
       "text": [
        "3"
       ]
      }
     ],
     "prompt_number": 82
    },
    {
     "cell_type": "code",
     "collapsed": false,
     "input": [
      "arreglo3 * arreglo"
     ],
     "language": "python",
     "metadata": {},
     "outputs": [
      {
       "metadata": {},
       "output_type": "pyout",
       "prompt_number": 70,
       "text": [
        "1-element Array{Int64,1}:\n",
        " 60"
       ]
      }
     ],
     "prompt_number": 70
    },
    {
     "cell_type": "code",
     "collapsed": false,
     "input": [
      "I = eye(5)"
     ],
     "language": "python",
     "metadata": {},
     "outputs": [
      {
       "metadata": {},
       "output_type": "pyout",
       "prompt_number": 74,
       "text": [
        "5x5 Array{Float64,2}:\n",
        " 1.0  0.0  0.0  0.0  0.0\n",
        " 0.0  1.0  0.0  0.0  0.0\n",
        " 0.0  0.0  1.0  0.0  0.0\n",
        " 0.0  0.0  0.0  1.0  0.0\n",
        " 0.0  0.0  0.0  0.0  1.0"
       ]
      }
     ],
     "prompt_number": 74
    },
    {
     "cell_type": "code",
     "collapsed": false,
     "input": [
      "I[7] = 30"
     ],
     "language": "python",
     "metadata": {},
     "outputs": [
      {
       "metadata": {},
       "output_type": "pyout",
       "prompt_number": 88,
       "text": [
        "30"
       ]
      }
     ],
     "prompt_number": 88
    },
    {
     "cell_type": "code",
     "collapsed": false,
     "input": [
      "I[6]= 4\n",
      "I"
     ],
     "language": "python",
     "metadata": {},
     "outputs": [
      {
       "metadata": {},
       "output_type": "pyout",
       "prompt_number": 91,
       "text": [
        "5x5 Array{Float64,2}:\n",
        " 1.0   4.0  0.0  0.0  0.0\n",
        " 0.0  30.0  0.0  0.0  0.0\n",
        " 0.0   0.0  1.0  0.0  0.0\n",
        " 0.0   0.0  0.0  1.0  0.0\n",
        " 0.0   0.0  0.0  0.0  1.0"
       ]
      }
     ],
     "prompt_number": 91
    },
    {
     "cell_type": "markdown",
     "metadata": {},
     "source": [
      "Si le pasamos tipos de numeros distintos, los convierte a un mismo tipo"
     ]
    },
    {
     "cell_type": "code",
     "collapsed": false,
     "input": [
      "arreglo2 = [1, 2.0, 2.6, 3]"
     ],
     "language": "python",
     "metadata": {},
     "outputs": [
      {
       "metadata": {},
       "output_type": "pyout",
       "prompt_number": 30,
       "text": [
        "4-element Array{Float64,1}:\n",
        " 1.0\n",
        " 2.0\n",
        " 2.6\n",
        " 3.0"
       ]
      },
      {
       "metadata": {},
       "output_type": "pyout",
       "prompt_number": 76,
       "text": [
        "4-element Array{Float64,1}:\n",
        " 1.0\n",
        " 2.0\n",
        " 2.6\n",
        " 3.0"
       ]
      }
     ],
     "prompt_number": 76
    },
    {
     "cell_type": "code",
     "collapsed": false,
     "input": [
      "lista_arraglos = [I, 2*I]"
     ],
     "language": "python",
     "metadata": {},
     "outputs": [
      {
       "metadata": {},
       "output_type": "pyout",
       "prompt_number": 92,
       "text": [
        "10x5 Array{Float64,2}:\n",
        " 1.0   4.0  0.0  0.0  0.0\n",
        " 0.0  30.0  0.0  0.0  0.0\n",
        " 0.0   0.0  1.0  0.0  0.0\n",
        " 0.0   0.0  0.0  1.0  0.0\n",
        " 0.0   0.0  0.0  0.0  1.0\n",
        " 2.0   8.0  0.0  0.0  0.0\n",
        " 0.0  60.0  0.0  0.0  0.0\n",
        " 0.0   0.0  2.0  0.0  0.0\n",
        " 0.0   0.0  0.0  2.0  0.0\n",
        " 0.0   0.0  0.0  0.0  2.0"
       ]
      }
     ],
     "prompt_number": 92
    },
    {
     "cell_type": "code",
     "collapsed": false,
     "input": [
      "lista_arraglos[1]\n"
     ],
     "language": "python",
     "metadata": {},
     "outputs": [
      {
       "metadata": {},
       "output_type": "pyout",
       "prompt_number": 93,
       "text": [
        "1.0"
       ]
      }
     ],
     "prompt_number": 93
    },
    {
     "cell_type": "markdown",
     "metadata": {},
     "source": [
      "Para formar arreglos de objetos de diferentes tipos, se puede hacer con llaves { }"
     ]
    },
    {
     "cell_type": "code",
     "collapsed": false,
     "input": [
      "arreglo3 = {1, 2.0, 3}"
     ],
     "language": "python",
     "metadata": {},
     "outputs": [
      {
       "metadata": {},
       "output_type": "pyout",
       "prompt_number": 31,
       "text": [
        "3-element Array{Any,1}:\n",
        " 1  \n",
        " 2.0\n",
        " 3  "
       ]
      },
      {
       "metadata": {},
       "output_type": "pyout",
       "prompt_number": 77,
       "text": [
        "3-element Array{Any,1}:\n",
        " 1  \n",
        " 2.0\n",
        " 3  "
       ]
      }
     ],
     "prompt_number": 77
    },
    {
     "cell_type": "code",
     "collapsed": false,
     "input": [
      "lista2 = {I, 2*I, eye(10)}"
     ],
     "language": "python",
     "metadata": {},
     "outputs": [
      {
       "metadata": {},
       "output_type": "pyout",
       "prompt_number": 96,
       "text": [
        "3-element Array{Any,1}:\n",
        " 5x5 Array{Float64,2}:\n",
        " 1.0   4.0  0.0  0.0  0.0\n",
        " 0.0  30.0  0.0  0.0  0.0\n",
        " 0.0   0.0  1.0  0.0  0.0\n",
        " 0.0   0.0  0.0  1.0  0.0\n",
        " 0.0   0.0  0.0  0.0  1.0                                                                                                                                                                                                                                                                                                                                                                                    \n",
        " 5x5 Array{Float64,2}:\n",
        " 2.0   8.0  0.0  0.0  0.0\n",
        " 0.0  60.0  0.0  0.0  0.0\n",
        " 0.0   0.0  2.0  0.0  0.0\n",
        " 0.0   0.0  0.0  2.0  0.0\n",
        " 0.0   0.0  0.0  0.0  2.0                                                                                                                                                                                                                                                                                                                                                                                    \n",
        " 10x10 Array{Float64,2}:\n",
        " 1.0  0.0  0.0  0.0  0.0  0.0  0.0  0.0  0.0  0.0\n",
        " 0.0  1.0  0.0  0.0  0.0  0.0  0.0  0.0  0.0  0.0\n",
        " 0.0  0.0  1.0  0.0  0.0  0.0  0.0  0.0  0.0  0.0\n",
        " 0.0  0.0  0.0  1.0  0.0  0.0  0.0  0.0  0.0  0.0\n",
        " 0.0  0.0  0.0  0.0  1.0  0.0  0.0  0.0  0.0  0.0\n",
        " 0.0  0.0  0.0  0.0  0.0  1.0  0.0  0.0  0.0  0.0\n",
        " 0.0  0.0  0.0  0.0  0.0  0.0  1.0  0.0  0.0  0.0\n",
        " 0.0  0.0  0.0  0.0  0.0  0.0  0.0  1.0  0.0  0.0\n",
        " 0.0  0.0  0.0  0.0  0.0  0.0  0.0  0.0  1.0  0.0\n",
        " 0.0  0.0  0.0  0.0  0.0  0.0  0.0  0.0  0.0  1.0"
       ]
      }
     ],
     "prompt_number": 96
    },
    {
     "cell_type": "heading",
     "level": 2,
     "metadata": {},
     "source": [
      "Funciones"
     ]
    },
    {
     "cell_type": "markdown",
     "metadata": {},
     "source": [
      "La sintaxis para definir funciones es la siguiente:"
     ]
    },
    {
     "cell_type": "code",
     "collapsed": false,
     "input": [
      "function f(x)\n",
      "    return 2x^2\n",
      "end\n",
      "    "
     ],
     "language": "python",
     "metadata": {},
     "outputs": [
      {
       "metadata": {},
       "output_type": "pyout",
       "prompt_number": 97,
       "text": [
        "# methods for generic function f\n",
        "f(x) at In[97]:2"
       ]
      }
     ],
     "prompt_number": 97
    },
    {
     "cell_type": "code",
     "collapsed": false,
     "input": [
      "f(3)"
     ],
     "language": "python",
     "metadata": {},
     "outputs": [
      {
       "metadata": {},
       "output_type": "pyout",
       "prompt_number": 98,
       "text": [
        "18"
       ]
      }
     ],
     "prompt_number": 98
    },
    {
     "cell_type": "markdown",
     "metadata": {},
     "source": [
      "Sin embargo el return no es necesario, pues por default, la funci\u00f3n regresa el resultado del \u00faltimo renglon:"
     ]
    },
    {
     "cell_type": "code",
     "collapsed": false,
     "input": [
      "function f(x)\n",
      "    a = x^2\n",
      "    a = 3a\n",
      "    a\n",
      "end"
     ],
     "language": "python",
     "metadata": {},
     "outputs": [
      {
       "metadata": {},
       "output_type": "pyout",
       "prompt_number": 101,
       "text": [
        "# methods for generic function f\n",
        "f(x) at In[101]:2"
       ]
      }
     ],
     "prompt_number": 101
    },
    {
     "cell_type": "code",
     "collapsed": false,
     "input": [
      "f(BigFloat(3.0))"
     ],
     "language": "python",
     "metadata": {},
     "outputs": [
      {
       "metadata": {},
       "output_type": "pyout",
       "prompt_number": 104,
       "text": [
        "2.7e+01 with 256 bits of precision"
       ]
      }
     ],
     "prompt_number": 104
    },
    {
     "cell_type": "markdown",
     "metadata": {},
     "source": [
      "Pero, las funciones tambien se pueden definir de manera m\u00e1s matem\u00e1tica!"
     ]
    },
    {
     "cell_type": "code",
     "collapsed": false,
     "input": [
      "f(x) = x^2"
     ],
     "language": "python",
     "metadata": {},
     "outputs": [
      {
       "metadata": {},
       "output_type": "pyout",
       "prompt_number": 105,
       "text": [
        "# methods for generic function f\n",
        "f(x) at In[105]:1"
       ]
      }
     ],
     "prompt_number": 105
    },
    {
     "cell_type": "code",
     "collapsed": false,
     "input": [
      "f(3)\n"
     ],
     "language": "python",
     "metadata": {},
     "outputs": [
      {
       "metadata": {},
       "output_type": "pyout",
       "prompt_number": 106,
       "text": [
        "9"
       ]
      }
     ],
     "prompt_number": 106
    },
    {
     "cell_type": "markdown",
     "metadata": {},
     "source": [
      "o inclusive"
     ]
    },
    {
     "cell_type": "code",
     "collapsed": false,
     "input": [
      "g = x -> x^3"
     ],
     "language": "python",
     "metadata": {},
     "outputs": [
      {
       "metadata": {},
       "output_type": "pyout",
       "prompt_number": 112,
       "text": [
        "# function"
       ]
      }
     ],
     "prompt_number": 112
    },
    {
     "cell_type": "code",
     "collapsed": false,
     "input": [
      "g(f(3))"
     ],
     "language": "python",
     "metadata": {},
     "outputs": [
      {
       "metadata": {},
       "output_type": "pyout",
       "prompt_number": 108,
       "text": [
        "729"
       ]
      }
     ],
     "prompt_number": 108
    },
    {
     "cell_type": "code",
     "collapsed": false,
     "input": [
      "map(x->3x^2, arreglo)"
     ],
     "language": "python",
     "metadata": {},
     "outputs": [
      {
       "metadata": {},
       "output_type": "pyout",
       "prompt_number": 115,
       "text": [
        "4-element Array{Int64,1}:\n",
        "  3\n",
        " 12\n",
        " 27\n",
        " 48"
       ]
      }
     ],
     "prompt_number": 115
    },
    {
     "cell_type": "code",
     "collapsed": false,
     "input": [
      "duplica = x -> 2x"
     ],
     "language": "python",
     "metadata": {},
     "outputs": [
      {
       "metadata": {},
       "output_type": "pyout",
       "prompt_number": 116,
       "text": [
        "# function"
       ]
      }
     ],
     "prompt_number": 116
    },
    {
     "cell_type": "code",
     "collapsed": false,
     "input": [
      "duplica(520)"
     ],
     "language": "python",
     "metadata": {},
     "outputs": [
      {
       "metadata": {},
       "output_type": "pyout",
       "prompt_number": 111,
       "text": [
        "1040"
       ]
      }
     ],
     "prompt_number": 111
    },
    {
     "cell_type": "code",
     "collapsed": false,
     "input": [
      "duplica"
     ],
     "language": "python",
     "metadata": {},
     "outputs": [
      {
       "metadata": {},
       "output_type": "pyout",
       "prompt_number": 117,
       "text": [
        "# function"
       ]
      }
     ],
     "prompt_number": 117
    },
    {
     "cell_type": "heading",
     "level": 2,
     "metadata": {},
     "source": [
      "Control de flujo"
     ]
    },
    {
     "cell_type": "markdown",
     "metadata": {},
     "source": [
      "Tambi\u00e9n se pueden definir variables con una sint\u00e1xis parecida a la de las funciones"
     ]
    },
    {
     "cell_type": "code",
     "collapsed": false,
     "input": [
      "a = begin\n",
      "        d = 3*4\n",
      "        d = 2d +1\n",
      "        d\n",
      "    end"
     ],
     "language": "python",
     "metadata": {},
     "outputs": [
      {
       "metadata": {},
       "output_type": "pyout",
       "prompt_number": 118,
       "text": [
        "25"
       ]
      }
     ],
     "prompt_number": 118
    },
    {
     "cell_type": "code",
     "collapsed": false,
     "input": [
      "\n"
     ],
     "language": "python",
     "metadata": {},
     "outputs": [
      {
       "metadata": {},
       "output_type": "pyout",
       "prompt_number": 119,
       "text": [
        "25"
       ]
      }
     ],
     "prompt_number": 119
    },
    {
     "cell_type": "code",
     "collapsed": false,
     "input": [
      "a"
     ],
     "language": "python",
     "metadata": {},
     "outputs": [
      {
       "metadata": {},
       "output_type": "pyout",
       "prompt_number": 44,
       "text": [
        "25"
       ]
      },
      {
       "metadata": {},
       "output_type": "pyout",
       "prompt_number": 90,
       "text": [
        "25"
       ]
      }
     ],
     "prompt_number": 90
    },
    {
     "cell_type": "heading",
     "level": 3,
     "metadata": {},
     "source": [
      "If"
     ]
    },
    {
     "cell_type": "code",
     "collapsed": false,
     "input": [
      "a = 3\n",
      "if a < 5\n",
      "    print(\"$a es menor que 5\")\n",
      "end"
     ],
     "language": "python",
     "metadata": {},
     "outputs": [
      {
       "output_type": "stream",
       "stream": "stdout",
       "text": [
        "3 es menor que 5"
       ]
      },
      {
       "metadata": {},
       "output_type": "pyout",
       "prompt_number": 121,
       "text": [
        "3.9"
       ]
      }
     ],
     "prompt_number": 121
    },
    {
     "cell_type": "code",
     "collapsed": false,
     "input": [
      "a = 5\n",
      "\n",
      "if a < 5\n",
      "    print(\"$a es menor que 5\")\n",
      "elseif a > 5\n",
      "    print(\"$a es mayor que 5\")\n",
      "else \n",
      "    print(\"a es igual a 5\")\n",
      "end"
     ],
     "language": "python",
     "metadata": {},
     "outputs": [
      {
       "output_type": "stream",
       "stream": "stdout",
       "text": [
        "a es igual a 5"
       ]
      }
     ],
     "prompt_number": 123
    },
    {
     "cell_type": "code",
     "collapsed": false,
     "input": [
      "a = 3\n",
      "\n",
      "if a < 5 || a >5\n",
      "    print(\"a es distinto de 5\")\n",
      "end"
     ],
     "language": "python",
     "metadata": {},
     "outputs": [
      {
       "output_type": "stream",
       "stream": "stdout",
       "text": [
        "a es distinto de 5"
       ]
      }
     ],
     "prompt_number": 125
    },
    {
     "cell_type": "code",
     "collapsed": false,
     "input": [
      "if a < 6 && a != 3\n",
      "    print(\"si funciona!!\")\n",
      "end\n"
     ],
     "language": "python",
     "metadata": {},
     "outputs": [],
     "prompt_number": 128
    },
    {
     "cell_type": "code",
     "collapsed": false,
     "input": [
      "!true"
     ],
     "language": "python",
     "metadata": {},
     "outputs": [
      {
       "metadata": {},
       "output_type": "pyout",
       "prompt_number": 129,
       "text": [
        "false"
       ]
      }
     ],
     "prompt_number": 129
    },
    {
     "cell_type": "heading",
     "level": 3,
     "metadata": {},
     "source": [
      "for"
     ]
    },
    {
     "cell_type": "code",
     "collapsed": false,
     "input": [
      "for i in arreglo\n",
      "    println(i)\n",
      "end"
     ],
     "language": "python",
     "metadata": {},
     "outputs": [
      {
       "output_type": "stream",
       "stream": "stdout",
       "text": [
        "1\n"
       ]
      },
      {
       "output_type": "stream",
       "stream": "stdout",
       "text": [
        "2\n",
        "3\n",
        "4\n"
       ]
      }
     ],
     "prompt_number": 135
    },
    {
     "cell_type": "code",
     "collapsed": false,
     "input": [
      "for i = 1:6\n",
      "    print(i, \"\\n\")\n",
      "end"
     ],
     "language": "python",
     "metadata": {},
     "outputs": [
      {
       "output_type": "stream",
       "stream": "stdout",
       "text": [
        "1\n"
       ]
      },
      {
       "output_type": "stream",
       "stream": "stdout",
       "text": [
        "2\n",
        "3\n",
        "4\n",
        "5\n",
        "6\n"
       ]
      }
     ],
     "prompt_number": 110
    },
    {
     "cell_type": "code",
     "collapsed": false,
     "input": [
      "arreglo = [1,2,3,4,5,6]\n",
      "\n",
      "for i in arreglo\n",
      "\n",
      "    println(3i)\n",
      "    \n",
      "end"
     ],
     "language": "python",
     "metadata": {},
     "outputs": [
      {
       "output_type": "stream",
       "stream": "stdout",
       "text": [
        "3\n"
       ]
      },
      {
       "output_type": "stream",
       "stream": "stdout",
       "text": [
        "6\n",
        "9\n",
        "12\n",
        "15\n",
        "18\n"
       ]
      }
     ],
     "prompt_number": 111
    },
    {
     "cell_type": "heading",
     "level": 3,
     "metadata": {},
     "source": [
      "while"
     ]
    },
    {
     "cell_type": "code",
     "collapsed": false,
     "input": [
      "i = 1\n",
      "\n",
      "while i <= 10 \n",
      "\n",
      "    println(i)\n",
      "    i += 1\n",
      "    \n",
      "end"
     ],
     "language": "python",
     "metadata": {},
     "outputs": [
      {
       "output_type": "stream",
       "stream": "stdout",
       "text": [
        "1\n"
       ]
      },
      {
       "output_type": "stream",
       "stream": "stdout",
       "text": [
        "2\n",
        "3\n",
        "4\n",
        "5\n",
        "6\n",
        "7\n",
        "8\n",
        "9\n",
        "10\n"
       ]
      }
     ],
     "prompt_number": 112
    },
    {
     "cell_type": "heading",
     "level": 2,
     "metadata": {},
     "source": [
      "Objetos (Tipos)"
     ]
    },
    {
     "cell_type": "markdown",
     "metadata": {},
     "source": [
      "Para definir objetos la sintaxis es la siguiente:"
     ]
    },
    {
     "cell_type": "code",
     "collapsed": false,
     "input": [
      "type MiObjeto\n",
      "    x\n",
      "end"
     ],
     "language": "python",
     "metadata": {},
     "outputs": [],
     "prompt_number": 136
    },
    {
     "cell_type": "code",
     "collapsed": false,
     "input": [
      "a = MiObjeto(150)"
     ],
     "language": "python",
     "metadata": {},
     "outputs": [
      {
       "metadata": {},
       "output_type": "pyout",
       "prompt_number": 139,
       "text": [
        "MiObjeto(150)"
       ]
      }
     ],
     "prompt_number": 139
    },
    {
     "cell_type": "code",
     "collapsed": false,
     "input": [
      "a.x"
     ],
     "language": "python",
     "metadata": {},
     "outputs": [
      {
       "metadata": {},
       "output_type": "pyout",
       "prompt_number": 140,
       "text": [
        "150"
       ]
      }
     ],
     "prompt_number": 140
    },
    {
     "cell_type": "code",
     "collapsed": false,
     "input": [
      "a.x = 3\n",
      "a.x"
     ],
     "language": "python",
     "metadata": {},
     "outputs": [
      {
       "metadata": {},
       "output_type": "pyout",
       "prompt_number": 141,
       "text": [
        "3"
       ]
      }
     ],
     "prompt_number": 141
    },
    {
     "cell_type": "markdown",
     "metadata": {},
     "source": [
      "No se necesita definir expl\u00edctamente un constructor (a esto le llaman constructores externos)"
     ]
    },
    {
     "cell_type": "code",
     "collapsed": false,
     "input": [
      "type Punto\n",
      "    x\n",
      "    y\n",
      "end"
     ],
     "language": "python",
     "metadata": {},
     "outputs": [
      {
       "ename": "LoadError",
       "evalue": "invalid redefinition of constant Punto\nat In[143]:4",
       "output_type": "pyerr",
       "traceback": [
        "invalid redefinition of constant Punto\nat In[143]:4"
       ]
      }
     ],
     "prompt_number": 143
    },
    {
     "cell_type": "code",
     "collapsed": false,
     "input": [
      "origen = Punto(0.0,0.0)"
     ],
     "language": "python",
     "metadata": {},
     "outputs": [
      {
       "metadata": {},
       "output_type": "pyout",
       "prompt_number": 145,
       "text": [
        "Punto(0.0,0.0)"
       ]
      }
     ],
     "prompt_number": 145
    },
    {
     "cell_type": "code",
     "collapsed": false,
     "input": [
      "origen"
     ],
     "language": "python",
     "metadata": {},
     "outputs": [
      {
       "metadata": {},
       "output_type": "pyout",
       "prompt_number": 118,
       "text": [
        "Punto(0,0)"
       ]
      }
     ],
     "prompt_number": 118
    },
    {
     "cell_type": "code",
     "collapsed": false,
     "input": [
      "origen.x"
     ],
     "language": "python",
     "metadata": {},
     "outputs": [
      {
       "metadata": {},
       "output_type": "pyout",
       "prompt_number": 146,
       "text": [
        "0.0"
       ]
      }
     ],
     "prompt_number": 146
    },
    {
     "cell_type": "code",
     "collapsed": false,
     "input": [
      "origen.y"
     ],
     "language": "python",
     "metadata": {},
     "outputs": [
      {
       "metadata": {},
       "output_type": "pyout",
       "prompt_number": 148,
       "text": [
        "0.0"
       ]
      }
     ],
     "prompt_number": 148
    },
    {
     "cell_type": "markdown",
     "metadata": {},
     "source": [
      "Pero tambi\u00e9n se pueden definir constructores internos:\n"
     ]
    },
    {
     "cell_type": "code",
     "collapsed": false,
     "input": [
      "type Circulo\n",
      "    x\n",
      "    y\n",
      "    radio\n",
      "    \n",
      "    Circulo(x, y, r) = new(x,y, r)\n",
      "end"
     ],
     "language": "python",
     "metadata": {},
     "outputs": [],
     "prompt_number": 149
    },
    {
     "cell_type": "code",
     "collapsed": false,
     "input": [
      "c = Circulo(0,0, 1)"
     ],
     "language": "python",
     "metadata": {},
     "outputs": [
      {
       "metadata": {},
       "output_type": "pyout",
       "prompt_number": 150,
       "text": [
        "Circulo(0,0,1)"
       ]
      }
     ],
     "prompt_number": 150
    },
    {
     "cell_type": "code",
     "collapsed": false,
     "input": [
      "c.radio"
     ],
     "language": "python",
     "metadata": {},
     "outputs": [
      {
       "metadata": {},
       "output_type": "pyout",
       "prompt_number": 151,
       "text": [
        "1"
       ]
      }
     ],
     "prompt_number": 151
    },
    {
     "cell_type": "code",
     "collapsed": false,
     "input": [
      "type Circulo5 <: ObjetoGeometrico\n",
      "    x\n",
      "    y\n",
      "    r\n",
      "    circ\n",
      "    \n",
      "    function Circulo5(x,y,r)\n",
      "        circ = 2*pi*r\n",
      "        new(x,y,r, circ)\n",
      "    end\n",
      "        \n",
      "end"
     ],
     "language": "python",
     "metadata": {},
     "outputs": [
      {
       "ename": "LoadError",
       "evalue": "invalid redefinition of constant Circulo5\nat In[168]:12",
       "output_type": "pyerr",
       "traceback": [
        "invalid redefinition of constant Circulo5\nat In[168]:12"
       ]
      }
     ],
     "prompt_number": 168
    },
    {
     "cell_type": "code",
     "collapsed": false,
     "input": [
      "cc = Circulo5(1, 2, 4)"
     ],
     "language": "python",
     "metadata": {},
     "outputs": [
      {
       "metadata": {},
       "output_type": "pyout",
       "prompt_number": 165,
       "text": [
        "Circulo5(1,2,4,25.132741228718345)"
       ]
      }
     ],
     "prompt_number": 165
    },
    {
     "cell_type": "code",
     "collapsed": false,
     "input": [
      "cc.circ"
     ],
     "language": "python",
     "metadata": {},
     "outputs": [
      {
       "metadata": {},
       "output_type": "pyout",
       "prompt_number": 167,
       "text": [
        "25.132741228718345"
       ]
      }
     ],
     "prompt_number": 167
    },
    {
     "cell_type": "code",
     "collapsed": false,
     "input": [
      "2pi"
     ],
     "language": "python",
     "metadata": {},
     "outputs": [
      {
       "metadata": {},
       "output_type": "pyout",
       "prompt_number": 156,
       "text": [
        "6.283185307179586"
       ]
      }
     ],
     "prompt_number": 156
    },
    {
     "cell_type": "code",
     "collapsed": false,
     "input": [],
     "language": "python",
     "metadata": {},
     "outputs": [],
     "prompt_number": 157
    },
    {
     "cell_type": "code",
     "collapsed": false,
     "input": [
      "a = [1,2,3,4]"
     ],
     "language": "python",
     "metadata": {},
     "outputs": [
      {
       "metadata": {},
       "output_type": "pyout",
       "prompt_number": 169,
       "text": [
        "4-element Array{Int64,1}:\n",
        " 1\n",
        " 2\n",
        " 3\n",
        " 4"
       ]
      }
     ],
     "prompt_number": 169
    },
    {
     "cell_type": "code",
     "collapsed": false,
     "input": [
      "b = [5,6,7,8]"
     ],
     "language": "python",
     "metadata": {},
     "outputs": [
      {
       "metadata": {},
       "output_type": "pyout",
       "prompt_number": 170,
       "text": [
        "4-element Array{Int64,1}:\n",
        " 5\n",
        " 6\n",
        " 7\n",
        " 8"
       ]
      }
     ],
     "prompt_number": 170
    },
    {
     "cell_type": "code",
     "collapsed": false,
     "input": [
      "c = append!(b, b)"
     ],
     "language": "python",
     "metadata": {},
     "outputs": [
      {
       "ename": "LoadError",
       "evalue": "argument dimensions must match\nat In[175]:1",
       "output_type": "pyerr",
       "traceback": [
        "argument dimensions must match\nat In[175]:1",
        " in setindex! at array.jl:431",
        " in append! at array.jl:671"
       ]
      }
     ],
     "prompt_number": 175
    },
    {
     "cell_type": "code",
     "collapsed": false,
     "input": [
      "a"
     ],
     "language": "python",
     "metadata": {},
     "outputs": [
      {
       "metadata": {},
       "output_type": "pyout",
       "prompt_number": 172,
       "text": [
        "8-element Array{Int64,1}:\n",
        " 1\n",
        " 2\n",
        " 3\n",
        " 4\n",
        " 5\n",
        " 6\n",
        " 7\n",
        " 8"
       ]
      }
     ],
     "prompt_number": 172
    },
    {
     "cell_type": "code",
     "collapsed": false,
     "input": [
      "a = []"
     ],
     "language": "python",
     "metadata": {},
     "outputs": [
      {
       "metadata": {},
       "output_type": "pyout",
       "prompt_number": 176,
       "text": [
        "0-element Array{None,1}"
       ]
      }
     ],
     "prompt_number": 176
    },
    {
     "cell_type": "code",
     "collapsed": false,
     "input": [
      "append!(a, [1])"
     ],
     "language": "python",
     "metadata": {},
     "outputs": [
      {
       "ename": "LoadError",
       "evalue": "[] cannot grow. Instead, initialize the array with \"T[]\".\nat In[177]:1",
       "output_type": "pyerr",
       "traceback": [
        "[] cannot grow. Instead, initialize the array with \"T[]\".\nat In[177]:1",
        " in append! at array.jl:667"
       ]
      }
     ],
     "prompt_number": 177
    },
    {
     "cell_type": "code",
     "collapsed": false,
     "input": [
      "a = Int[]"
     ],
     "language": "python",
     "metadata": {},
     "outputs": [
      {
       "metadata": {},
       "output_type": "pyout",
       "prompt_number": 178,
       "text": [
        "0-element Array{Int64,1}"
       ]
      }
     ],
     "prompt_number": 178
    },
    {
     "cell_type": "code",
     "collapsed": false,
     "input": [
      "append!(a, [1, 3, 4])"
     ],
     "language": "python",
     "metadata": {},
     "outputs": [
      {
       "metadata": {},
       "output_type": "pyout",
       "prompt_number": 181,
       "text": [
        "5-element Array{Int64,1}:\n",
        " 1\n",
        " 0\n",
        " 1\n",
        " 3\n",
        " 4"
       ]
      }
     ],
     "prompt_number": 181
    },
    {
     "cell_type": "code",
     "collapsed": false,
     "input": [
      "c = FloatingPoint[]"
     ],
     "language": "python",
     "metadata": {},
     "outputs": [
      {
       "metadata": {},
       "output_type": "pyout",
       "prompt_number": 187,
       "text": [
        "0-element Array{FloatingPoint,1}"
       ]
      }
     ],
     "prompt_number": 187
    },
    {
     "cell_type": "code",
     "collapsed": false,
     "input": [
      "append!(c, [1.2])"
     ],
     "language": "python",
     "metadata": {},
     "outputs": [
      {
       "metadata": {},
       "output_type": "pyout",
       "prompt_number": 188,
       "text": [
        "1-element Array{FloatingPoint,1}:\n",
        " 1.2"
       ]
      }
     ],
     "prompt_number": 188
    },
    {
     "cell_type": "code",
     "collapsed": false,
     "input": [
      "Float64 <: Number"
     ],
     "language": "python",
     "metadata": {},
     "outputs": [
      {
       "metadata": {},
       "output_type": "pyout",
       "prompt_number": 190,
       "text": [
        "true"
       ]
      }
     ],
     "prompt_number": 190
    },
    {
     "cell_type": "code",
     "collapsed": false,
     "input": [],
     "language": "python",
     "metadata": {},
     "outputs": [],
     "prompt_number": 191
    },
    {
     "cell_type": "code",
     "collapsed": false,
     "input": [
      "a = {}"
     ],
     "language": "python",
     "metadata": {},
     "outputs": [
      {
       "metadata": {},
       "output_type": "pyout",
       "prompt_number": 192,
       "text": [
        "0-element Array{Any,1}"
       ]
      }
     ],
     "prompt_number": 192
    },
    {
     "cell_type": "code",
     "collapsed": false,
     "input": [
      "append!(a, [\"hola\"])"
     ],
     "language": "python",
     "metadata": {},
     "outputs": [
      {
       "metadata": {},
       "output_type": "pyout",
       "prompt_number": 194,
       "text": [
        "2-element Array{Any,1}:\n",
        " 3.4    \n",
        "  \"hola\""
       ]
      }
     ],
     "prompt_number": 194
    },
    {
     "cell_type": "code",
     "collapsed": false,
     "input": [
      "a"
     ],
     "language": "python",
     "metadata": {},
     "outputs": [
      {
       "metadata": {},
       "output_type": "pyout",
       "prompt_number": 195,
       "text": [
        "2-element Array{Any,1}:\n",
        " 3.4    \n",
        "  \"hola\""
       ]
      }
     ],
     "prompt_number": 195
    },
    {
     "cell_type": "code",
     "collapsed": false,
     "input": [
      "a = [1,2,3,4]"
     ],
     "language": "python",
     "metadata": {},
     "outputs": [
      {
       "metadata": {},
       "output_type": "pyout",
       "prompt_number": 196,
       "text": [
        "4-element Array{Int64,1}:\n",
        " 1\n",
        " 2\n",
        " 3\n",
        " 4"
       ]
      }
     ],
     "prompt_number": 196
    },
    {
     "cell_type": "code",
     "collapsed": false,
     "input": [
      "b = a"
     ],
     "language": "python",
     "metadata": {},
     "outputs": [
      {
       "metadata": {},
       "output_type": "pyout",
       "prompt_number": 197,
       "text": [
        "4-element Array{Int64,1}:\n",
        " 1\n",
        " 2\n",
        " 3\n",
        " 4"
       ]
      }
     ],
     "prompt_number": 197
    },
    {
     "cell_type": "code",
     "collapsed": false,
     "input": [
      "a[1] = 101"
     ],
     "language": "python",
     "metadata": {},
     "outputs": [
      {
       "metadata": {},
       "output_type": "pyout",
       "prompt_number": 198,
       "text": [
        "101"
       ]
      }
     ],
     "prompt_number": 198
    },
    {
     "cell_type": "code",
     "collapsed": false,
     "input": [
      "a\n"
     ],
     "language": "python",
     "metadata": {},
     "outputs": [
      {
       "metadata": {},
       "output_type": "pyout",
       "prompt_number": 199,
       "text": [
        "4-element Array{Int64,1}:\n",
        " 101\n",
        "   2\n",
        "   3\n",
        "   4"
       ]
      }
     ],
     "prompt_number": 199
    },
    {
     "cell_type": "code",
     "collapsed": false,
     "input": [
      "b"
     ],
     "language": "python",
     "metadata": {},
     "outputs": [
      {
       "metadata": {},
       "output_type": "pyout",
       "prompt_number": 200,
       "text": [
        "4-element Array{Int64,1}:\n",
        " 101\n",
        "   2\n",
        "   3\n",
        "   4"
       ]
      }
     ],
     "prompt_number": 200
    },
    {
     "cell_type": "code",
     "collapsed": false,
     "input": [
      "b = copy(a)"
     ],
     "language": "python",
     "metadata": {},
     "outputs": [
      {
       "metadata": {},
       "output_type": "pyout",
       "prompt_number": 201,
       "text": [
        "4-element Array{Int64,1}:\n",
        " 101\n",
        "   2\n",
        "   3\n",
        "   4"
       ]
      }
     ],
     "prompt_number": 201
    },
    {
     "cell_type": "code",
     "collapsed": false,
     "input": [
      "a[1] = 3"
     ],
     "language": "python",
     "metadata": {},
     "outputs": [
      {
       "metadata": {},
       "output_type": "pyout",
       "prompt_number": 202,
       "text": [
        "3"
       ]
      }
     ],
     "prompt_number": 202
    },
    {
     "cell_type": "code",
     "collapsed": false,
     "input": [
      "a"
     ],
     "language": "python",
     "metadata": {},
     "outputs": [
      {
       "metadata": {},
       "output_type": "pyout",
       "prompt_number": 203,
       "text": [
        "4-element Array{Int64,1}:\n",
        " 3\n",
        " 2\n",
        " 3\n",
        " 4"
       ]
      }
     ],
     "prompt_number": 203
    },
    {
     "cell_type": "code",
     "collapsed": false,
     "input": [
      "b"
     ],
     "language": "python",
     "metadata": {},
     "outputs": [
      {
       "metadata": {},
       "output_type": "pyout",
       "prompt_number": 204,
       "text": [
        "4-element Array{Int64,1}:\n",
        " 101\n",
        "   2\n",
        "   3\n",
        "   4"
       ]
      }
     ],
     "prompt_number": 204
    },
    {
     "cell_type": "code",
     "collapsed": false,
     "input": [
      "d = a[:]"
     ],
     "language": "python",
     "metadata": {},
     "outputs": [
      {
       "metadata": {},
       "output_type": "pyout",
       "prompt_number": 205,
       "text": [
        "4-element Array{Int64,1}:\n",
        " 3\n",
        " 2\n",
        " 3\n",
        " 4"
       ]
      }
     ],
     "prompt_number": 205
    },
    {
     "cell_type": "code",
     "collapsed": false,
     "input": [
      "a[end] = 4000"
     ],
     "language": "python",
     "metadata": {},
     "outputs": [
      {
       "metadata": {},
       "output_type": "pyout",
       "prompt_number": 206,
       "text": [
        "4000"
       ]
      }
     ],
     "prompt_number": 206
    },
    {
     "cell_type": "code",
     "collapsed": false,
     "input": [
      "a"
     ],
     "language": "python",
     "metadata": {},
     "outputs": [
      {
       "metadata": {},
       "output_type": "pyout",
       "prompt_number": 207,
       "text": [
        "4-element Array{Int64,1}:\n",
        "    3\n",
        "    2\n",
        "    3\n",
        " 4000"
       ]
      }
     ],
     "prompt_number": 207
    },
    {
     "cell_type": "code",
     "collapsed": false,
     "input": [
      "d"
     ],
     "language": "python",
     "metadata": {},
     "outputs": [
      {
       "metadata": {},
       "output_type": "pyout",
       "prompt_number": 208,
       "text": [
        "4-element Array{Int64,1}:\n",
        " 3\n",
        " 2\n",
        " 3\n",
        " 4"
       ]
      }
     ],
     "prompt_number": 208
    },
    {
     "cell_type": "code",
     "collapsed": false,
     "input": [
      "include(\"/home/alonso/metodos_rigurosos/julia/interval.jl\")"
     ],
     "language": "python",
     "metadata": {},
     "outputs": [
      {
       "metadata": {},
       "output_type": "pyout",
       "prompt_number": 211,
       "text": [
        "# methods for generic function >\n",
        ">(x::BigInt,y::BigInt) at gmp.jl:359\n",
        ">(x::BigFloat,y::BigFloat) at mpfr.jl:582\n",
        ">(a::Union(IOStream,AsyncStream,FileRedirect,File),b::AbstractCmd) at deprecated.jl:17\n",
        ">(a::String,b::AbstractCmd) at deprecated.jl:17\n",
        ">(a::AbstractCmd,b::Union(IOStream,AsyncStream,FileRedirect,File)) at deprecated.jl:17\n",
        "... 3 methods not shown (use methods(>) to see them all)"
       ]
      }
     ],
     "prompt_number": 211
    },
    {
     "cell_type": "code",
     "collapsed": false,
     "input": [
      "a = Interval(3,4)"
     ],
     "language": "python",
     "metadata": {},
     "outputs": [
      {
       "metadata": {},
       "output_type": "pyout",
       "prompt_number": 212,
       "text": [
        "[3, 4]"
       ]
      }
     ],
     "prompt_number": 212
    },
    {
     "cell_type": "code",
     "collapsed": false,
     "input": [],
     "language": "python",
     "metadata": {},
     "outputs": []
    }
   ],
   "metadata": {}
  }
 ]
}